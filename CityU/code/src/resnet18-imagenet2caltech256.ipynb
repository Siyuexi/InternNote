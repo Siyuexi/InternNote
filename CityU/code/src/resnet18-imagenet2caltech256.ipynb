{
 "cells": [
  {
   "cell_type": "markdown",
   "source": [
    "# 1. FEATURE BLOCK"
   ],
   "metadata": {}
  },
  {
   "cell_type": "code",
   "execution_count": 2,
   "source": [
    "import numpy\n",
    "import torch\n",
    "import torchvision\n",
    "from torchvision import transforms"
   ],
   "outputs": [],
   "metadata": {}
  },
  {
   "cell_type": "markdown",
   "source": [
    "## 1.1 Import dataset and pretrained model"
   ],
   "metadata": {}
  },
  {
   "cell_type": "code",
   "execution_count": null,
   "source": [
    "# 数据集路径请按需更改\n",
    "img_data = torchvision.datasets.ImageFolder(\"../dataset/caltech256/256_ObjectCategories\",\n",
    "                                    transform=transforms.Compose([\n",
    "                                                transforms.Resize(256),\n",
    "                                                transforms.CenterCrop(224),\n",
    "                                                transforms.ToTensor()])\n",
    "                                                )\n",
    "data_loader = torch.utils.data.DataLoader(img_data, batch_size=1, shuffle=True)\n",
    "net = torchvision.models.resnet18(pretrained=True)\n",
    "net.fc = torch.nn.Sequential(net.fc, torch.nn.Softmax(dim=1))\n",
    "device = torch.device(\"cuda\" if torch.cuda.is_available() else \"cpu\")\n",
    "print(\"device : \"+str(device))"
   ],
   "outputs": [],
   "metadata": {}
  },
  {
   "cell_type": "markdown",
   "source": [
    "## 1.2 Get and save feature"
   ],
   "metadata": {}
  },
  {
   "cell_type": "code",
   "execution_count": null,
   "source": [
    "features = []\n",
    "count = 0\n",
    "total = 0\n",
    "print(\"total data : \" + str(len(data_loader)))\n",
    "\n",
    "# 使用cpu\n",
    "if(str(device) == 'cpu'):\n",
    "    net.eval()\n",
    "    for x, y in data_loader:\n",
    "        with torch.no_grad():\n",
    "            pred = net(x)\n",
    "            pred = torch.cat((pred[0],),0)\n",
    "            features.append(pred.numpy())\n",
    "            count +=1\n",
    "            if(count==500):\n",
    "                total += count\n",
    "                count = 0\n",
    "                print(\"checkpoint : \" + str(total))\n",
    "# 使用gpu\n",
    "elif(str(device) == 'cuda'):\n",
    "    net = net.cuda()\n",
    "    net.eval()\n",
    "    for x, y in data_loader:\n",
    "        with torch.no_grad():\n",
    "            pred = net(x.cuda())\n",
    "            pred = torch.cat((pred[0],y.cuda()),0)\n",
    "            features.append(pred.cpu().numpy()) # 使用gpu\n",
    "            count +=1\n",
    "            if(count==500):\n",
    "                total += count\n",
    "                count = 0\n",
    "                print(\"checkpoint : \" + str(total))\n",
    "   \n",
    "numpy.savetxt(\"../feature/resnet18-imagenet2caltech256-features.csv\",features,delimiter=',')\n"
   ],
   "outputs": [],
   "metadata": {}
  },
  {
   "cell_type": "markdown",
   "source": [
    "# 2. MODEL BLOCK"
   ],
   "metadata": {}
  },
  {
   "cell_type": "code",
   "execution_count": null,
   "source": [
    "import joblib\n",
    "from sklearn import svm\n",
    "from sklearn.metrics import accuracy_score\n",
    "from sklearn.model_selection import train_test_split"
   ],
   "outputs": [],
   "metadata": {}
  },
  {
   "cell_type": "markdown",
   "source": [
    "## 2.1 Import features"
   ],
   "metadata": {}
  },
  {
   "cell_type": "code",
   "execution_count": null,
   "source": [
    "feature_data = numpy.loadtxt(\"../feature/resnet18-imagenet2caltech256-features.csv\", delimiter=',')\n",
    "X = feature_data[:,:-1]\n",
    "y = feature_data[:,-1]\n",
    "print(\"labels : \")\n",
    "print(y)"
   ],
   "outputs": [],
   "metadata": {}
  },
  {
   "cell_type": "markdown",
   "source": [
    "## 2.2 Train and save model"
   ],
   "metadata": {}
  },
  {
   "cell_type": "code",
   "execution_count": null,
   "source": [
    "X_train,X_test,y_train,y_test= train_test_split(X,y,test_size=0.3,random_state=42) # Answer of UNIVERSE\n",
    "clf = svm.SVC(kernel='rbf',verbose=True) # default : C=1, gamma=1/NUM_OF_FEATURES\n",
    "clf.fit(X_train,y_train)\n",
    "joblib.dump(clf, \"../model/resnet18-imagenet2caltech256-model.pkl\")\n",
    "# clf = joblib.load(clf, \"../model/resnet18-imagenet2caltech256-model.pkl\")"
   ],
   "outputs": [],
   "metadata": {}
  },
  {
   "cell_type": "markdown",
   "source": [
    "## 2.3 Test model"
   ],
   "metadata": {}
  },
  {
   "cell_type": "code",
   "execution_count": null,
   "source": [
    "y_hat = clf.predict(X_test)\n",
    "acc = accuracy_score(y_test, y_hat)\n",
    "print(\"accuary : \" + str(acc))"
   ],
   "outputs": [],
   "metadata": {}
  }
 ],
 "metadata": {
  "orig_nbformat": 4,
  "language_info": {
   "name": "python",
   "version": "3.9.5",
   "mimetype": "text/x-python",
   "codemirror_mode": {
    "name": "ipython",
    "version": 3
   },
   "pygments_lexer": "ipython3",
   "nbconvert_exporter": "python",
   "file_extension": ".py"
  },
  "kernelspec": {
   "name": "python3",
   "display_name": "Python 3.9.5 64-bit"
  },
  "interpreter": {
   "hash": "aee8b7b246df8f9039afb4144a1f6fd8d2ca17a180786b69acc140d282b71a49"
  }
 },
 "nbformat": 4,
 "nbformat_minor": 2
}