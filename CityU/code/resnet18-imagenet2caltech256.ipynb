{
 "cells": [
  {
   "cell_type": "markdown",
   "source": [
    "# 1.导入包"
   ],
   "metadata": {}
  },
  {
   "cell_type": "code",
   "execution_count": 6,
   "source": [
    "import torch\n",
    "import torchvision\n",
    "from torchvision import transforms\n",
    "\n",
    "import codecs\n",
    "import csv"
   ],
   "outputs": [],
   "metadata": {}
  },
  {
   "cell_type": "markdown",
   "source": [
    "# 2.导入数据集和模型"
   ],
   "metadata": {}
  },
  {
   "cell_type": "code",
   "execution_count": 13,
   "source": [
    "# 数据集路径请按需更改\n",
    "img_data = torchvision.datasets.ImageFolder(\"/Users/gestaltxu/Downloads/caltech256/256_ObjectCategories\",\n",
    "                                    transform=transforms.Compose([\n",
    "                                                transforms.Resize(256),\n",
    "                                                transforms.CenterCrop(224),\n",
    "                                                transforms.ToTensor()])\n",
    "                                                )\n",
    "data_loader = torch.utils.data.DataLoader(img_data, batch_size=20, shuffle=True)\n",
    "net = torchvision.models.resnet18(pretrained=True)\n",
    "net.fc = torch.nn.Sequential(net.fc, torch.nn.Softmax(dim=1))\n",
    "device = torch.device(\"cuda:0\" if torch.cuda.is_available() else \"cpu\")\n",
    "print(\"device : \"+str(device))"
   ],
   "outputs": [
    {
     "output_type": "stream",
     "name": "stdout",
     "text": [
      "device : cpu\n"
     ]
    }
   ],
   "metadata": {}
  },
  {
   "cell_type": "markdown",
   "source": [
    "# 3.提取feature"
   ],
   "metadata": {}
  },
  {
   "cell_type": "code",
   "execution_count": null,
   "source": [
    "net.eval()\n",
    "features = []\n",
    "for x, y in data_loader:\n",
    "    with torch.no_grad():\n",
    "        pred = net(x)\n",
    "        print(pred.size())\n",
    "        print(pred)\n",
    "        features.append(pred)\n",
    "repos = codecs.open(\"resnet18-imagenet2caltech256\", 'w+', 'utf-8')  # 追加\n",
    "writer = csv.writer(repos, delimiter=' ', quotechar=' ', quoting=csv.QUOTE_MINIMAL)\n",
    "for feature in features:\n",
    "    writer.writerow(feature)\n"
   ],
   "outputs": [],
   "metadata": {}
  }
 ],
 "metadata": {
  "orig_nbformat": 4,
  "language_info": {
   "name": "python",
   "version": "3.9.5",
   "mimetype": "text/x-python",
   "codemirror_mode": {
    "name": "ipython",
    "version": 3
   },
   "pygments_lexer": "ipython3",
   "nbconvert_exporter": "python",
   "file_extension": ".py"
  },
  "kernelspec": {
   "name": "python3",
   "display_name": "Python 3.9.5 64-bit"
  },
  "interpreter": {
   "hash": "aee8b7b246df8f9039afb4144a1f6fd8d2ca17a180786b69acc140d282b71a49"
  }
 },
 "nbformat": 4,
 "nbformat_minor": 2
}